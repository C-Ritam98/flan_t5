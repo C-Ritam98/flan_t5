{
  "nbformat": 4,
  "nbformat_minor": 0,
  "metadata": {
    "colab": {
      "provenance": [],
      "gpuType": "T4"
    },
    "kernelspec": {
      "name": "python3",
      "display_name": "Python 3"
    },
    "language_info": {
      "name": "python"
    },
    "accelerator": "GPU"
  },
  "cells": [
    {
      "cell_type": "code",
      "source": [
        "!pip install transformers"
      ],
      "metadata": {
        "id": "pKi_YKIlK5xQ"
      },
      "execution_count": null,
      "outputs": []
    },
    {
      "cell_type": "code",
      "source": [
        "import torch"
      ],
      "metadata": {
        "id": "4Q4hcBEaPQ7m"
      },
      "execution_count": null,
      "outputs": []
    },
    {
      "cell_type": "markdown",
      "source": [
        "PART-1"
      ],
      "metadata": {
        "id": "4_UsnQHrXLu2"
      }
    },
    {
      "cell_type": "code",
      "execution_count": null,
      "metadata": {
        "id": "QgdVq7J2I3BF"
      },
      "outputs": [],
      "source": [
        "from transformers import AutoModelForSeq2SeqLM, AutoTokenizer\n",
        "\n",
        "model = AutoModelForSeq2SeqLM.from_pretrained(\"google/flan-t5-small\")\n",
        "tokenizer = AutoTokenizer.from_pretrained(\"google/flan-t5-small\")"
      ]
    },
    {
      "cell_type": "code",
      "source": [
        "model.config"
      ],
      "metadata": {
        "colab": {
          "base_uri": "https://localhost:8080/"
        },
        "id": "pjSClJnLVMv-",
        "outputId": "05ad867d-a4f0-4ee2-ea16-800e1e75c2fc"
      },
      "execution_count": null,
      "outputs": [
        {
          "output_type": "execute_result",
          "data": {
            "text/plain": [
              "T5Config {\n",
              "  \"_name_or_path\": \"google/flan-t5-small\",\n",
              "  \"architectures\": [\n",
              "    \"T5ForConditionalGeneration\"\n",
              "  ],\n",
              "  \"d_ff\": 1024,\n",
              "  \"d_kv\": 64,\n",
              "  \"d_model\": 512,\n",
              "  \"decoder_start_token_id\": 0,\n",
              "  \"dense_act_fn\": \"gelu_new\",\n",
              "  \"dropout_rate\": 0.1,\n",
              "  \"eos_token_id\": 1,\n",
              "  \"feed_forward_proj\": \"gated-gelu\",\n",
              "  \"initializer_factor\": 1.0,\n",
              "  \"is_encoder_decoder\": true,\n",
              "  \"is_gated_act\": true,\n",
              "  \"layer_norm_epsilon\": 1e-06,\n",
              "  \"model_type\": \"t5\",\n",
              "  \"n_positions\": 512,\n",
              "  \"num_decoder_layers\": 8,\n",
              "  \"num_heads\": 6,\n",
              "  \"num_layers\": 8,\n",
              "  \"output_past\": true,\n",
              "  \"pad_token_id\": 0,\n",
              "  \"relative_attention_max_distance\": 128,\n",
              "  \"relative_attention_num_buckets\": 32,\n",
              "  \"task_specific_params\": {\n",
              "    \"summarization\": {\n",
              "      \"early_stopping\": true,\n",
              "      \"length_penalty\": 2.0,\n",
              "      \"max_length\": 200,\n",
              "      \"min_length\": 30,\n",
              "      \"no_repeat_ngram_size\": 3,\n",
              "      \"num_beams\": 4,\n",
              "      \"prefix\": \"summarize: \"\n",
              "    },\n",
              "    \"translation_en_to_de\": {\n",
              "      \"early_stopping\": true,\n",
              "      \"max_length\": 300,\n",
              "      \"num_beams\": 4,\n",
              "      \"prefix\": \"translate English to German: \"\n",
              "    },\n",
              "    \"translation_en_to_fr\": {\n",
              "      \"early_stopping\": true,\n",
              "      \"max_length\": 300,\n",
              "      \"num_beams\": 4,\n",
              "      \"prefix\": \"translate English to French: \"\n",
              "    },\n",
              "    \"translation_en_to_ro\": {\n",
              "      \"early_stopping\": true,\n",
              "      \"max_length\": 300,\n",
              "      \"num_beams\": 4,\n",
              "      \"prefix\": \"translate English to Romanian: \"\n",
              "    }\n",
              "  },\n",
              "  \"tie_word_embeddings\": false,\n",
              "  \"transformers_version\": \"4.31.0\",\n",
              "  \"use_cache\": true,\n",
              "  \"vocab_size\": 32128\n",
              "}"
            ]
          },
          "metadata": {},
          "execution_count": 105
        }
      ]
    },
    {
      "cell_type": "markdown",
      "source": [
        "Summarisation Task"
      ],
      "metadata": {
        "id": "-r0O1aFLNsvm"
      }
    },
    {
      "cell_type": "code",
      "source": [
        "inputs = tokenizer(\"\"\"Summarize: Architecturally, the school has a Catholic character. Atop the Main Building's gold dome is a golden statue of the Virgin Mary. Immediately in front of the Main Building and facing it, is a copper statue of Christ with arms upraised with the legend \"Venite Ad Me Omnes\". Next to the Main Building is the Basilica of the Sacred Heart. Immediately behind the basilica is the Grotto, a Marian place of prayer and reflection. It is a replica of the grotto at Lourdes, France where the Virgin Mary reputedly appeared to Saint Bernadette Soubirous in 1858. At the end of the main drive (and in a direct line that connects through 3 statues and the Gold Dome), is a simple, modern stone statue of Mary.\"\"\", return_tensors=\"pt\")\n",
        "outputs = model.generate(**inputs)\n",
        "print(tokenizer.batch_decode(outputs, skip_special_tokens=True))"
      ],
      "metadata": {
        "colab": {
          "base_uri": "https://localhost:8080/"
        },
        "id": "ujtO1r-ENq7O",
        "outputId": "6b8820d0-2969-4da6-913c-87791bb4ef8c"
      },
      "execution_count": null,
      "outputs": [
        {
          "output_type": "stream",
          "name": "stderr",
          "text": [
            "/usr/local/lib/python3.10/dist-packages/transformers/generation/utils.py:1369: UserWarning: Using `max_length`'s default (20) to control the generation length. This behaviour is deprecated and will be removed from the config in v5 of Transformers -- we recommend using `max_new_tokens` to control the maximum length of the generation.\n",
            "  warnings.warn(\n"
          ]
        },
        {
          "output_type": "stream",
          "name": "stdout",
          "text": [
            "['The main entrance to the school is a sand castle.']\n"
          ]
        }
      ]
    },
    {
      "cell_type": "markdown",
      "source": [
        "Translation Task"
      ],
      "metadata": {
        "id": "L1zSJDzINwzQ"
      }
    },
    {
      "cell_type": "code",
      "source": [
        "inputs = tokenizer(\"translate English to French: A step by step recipe to make bolognese pasta\", return_tensors=\"pt\")\n",
        "outputs = model.generate(**inputs)\n",
        "print(tokenizer.batch_decode(outputs, skip_special_tokens=True))"
      ],
      "metadata": {
        "colab": {
          "base_uri": "https://localhost:8080/"
        },
        "id": "_9Fv5eiANwML",
        "outputId": "4067bc99-3daa-4bde-df80-26adb3c6c1a2"
      },
      "execution_count": null,
      "outputs": [
        {
          "output_type": "stream",
          "name": "stdout",
          "text": [
            "[\"Un risqué d'élaboration de l'assa\"]\n"
          ]
        }
      ]
    },
    {
      "cell_type": "markdown",
      "source": [
        "Q&A Task"
      ],
      "metadata": {
        "id": "kKcScxhmN2bo"
      }
    },
    {
      "cell_type": "code",
      "source": [
        "inputs = tokenizer(\"\"\"Answer the following question based on the context.\\nContext: Architecturally, the school has a Catholic character. Atop the Main Building's gold dome is a golden statue of the Virgin Mary. Immediately in front of the Main Building and facing it, is a copper statue of Christ with arms upraised with the legend \"Venite Ad Me Omnes\". Next to the Main Building is the Basilica of the Sacred Heart. Immediately behind the basilica is the Grotto, a Marian place of prayer and reflection. It is a replica of the grotto at Lourdes, France where the Virgin Mary reputedly appeared to Saint Bernadette Soubirous in 1858. At the end of the main drive (and in a direct line that connects through 3 statues and the Gold Dome), is a simple, modern stone statue of Mary.\\nQuestion: To whom did the Virgin Mary allegedly appear in 1858 in Lourdes France?\"\"\", return_tensors=\"pt\")\n",
        "outputs = model.generate(**inputs, num_beams = 4, do_sample = True)\n",
        "print(tokenizer.batch_decode(outputs, skip_special_tokens=True))"
      ],
      "metadata": {
        "colab": {
          "base_uri": "https://localhost:8080/"
        },
        "id": "SiOekYJAN0JR",
        "outputId": "72595ab5-9044-4cef-d102-9b2054924174"
      },
      "execution_count": null,
      "outputs": [
        {
          "output_type": "stream",
          "name": "stdout",
          "text": [
            "['Saint Bernadette Soubirous']\n"
          ]
        }
      ]
    },
    {
      "cell_type": "code",
      "source": [
        "total_params = 0\n",
        "total_size = 0\n",
        "for name,param in model.named_parameters():\n",
        "  print(f\"Layer Name: {name} || Tensor size: {param.size()}\")\n",
        "  total_params += param.numel()\n",
        "  total_size += param.numel() * param.element_size()"
      ],
      "metadata": {
        "colab": {
          "base_uri": "https://localhost:8080/"
        },
        "id": "a4RT54FMLU7F",
        "outputId": "748ca38c-c9c2-49f3-da14-f4f11791caf3"
      },
      "execution_count": null,
      "outputs": [
        {
          "output_type": "stream",
          "name": "stdout",
          "text": [
            "Layer Name: shared.weight || Tensor size: torch.Size([32128, 512])\n",
            "Layer Name: encoder.block.0.layer.0.SelfAttention.q.weight || Tensor size: torch.Size([384, 512])\n",
            "Layer Name: encoder.block.0.layer.0.SelfAttention.k.weight || Tensor size: torch.Size([384, 512])\n",
            "Layer Name: encoder.block.0.layer.0.SelfAttention.v.weight || Tensor size: torch.Size([384, 512])\n",
            "Layer Name: encoder.block.0.layer.0.SelfAttention.o.weight || Tensor size: torch.Size([512, 384])\n",
            "Layer Name: encoder.block.0.layer.0.SelfAttention.relative_attention_bias.weight || Tensor size: torch.Size([32, 6])\n",
            "Layer Name: encoder.block.0.layer.0.layer_norm.weight || Tensor size: torch.Size([512])\n",
            "Layer Name: encoder.block.0.layer.1.DenseReluDense.wi_0.weight || Tensor size: torch.Size([1024, 512])\n",
            "Layer Name: encoder.block.0.layer.1.DenseReluDense.wi_1.weight || Tensor size: torch.Size([1024, 512])\n",
            "Layer Name: encoder.block.0.layer.1.DenseReluDense.wo.weight || Tensor size: torch.Size([512, 1024])\n",
            "Layer Name: encoder.block.0.layer.1.layer_norm.weight || Tensor size: torch.Size([512])\n",
            "Layer Name: encoder.block.1.layer.0.SelfAttention.q.weight || Tensor size: torch.Size([384, 512])\n",
            "Layer Name: encoder.block.1.layer.0.SelfAttention.k.weight || Tensor size: torch.Size([384, 512])\n",
            "Layer Name: encoder.block.1.layer.0.SelfAttention.v.weight || Tensor size: torch.Size([384, 512])\n",
            "Layer Name: encoder.block.1.layer.0.SelfAttention.o.weight || Tensor size: torch.Size([512, 384])\n",
            "Layer Name: encoder.block.1.layer.0.layer_norm.weight || Tensor size: torch.Size([512])\n",
            "Layer Name: encoder.block.1.layer.1.DenseReluDense.wi_0.weight || Tensor size: torch.Size([1024, 512])\n",
            "Layer Name: encoder.block.1.layer.1.DenseReluDense.wi_1.weight || Tensor size: torch.Size([1024, 512])\n",
            "Layer Name: encoder.block.1.layer.1.DenseReluDense.wo.weight || Tensor size: torch.Size([512, 1024])\n",
            "Layer Name: encoder.block.1.layer.1.layer_norm.weight || Tensor size: torch.Size([512])\n",
            "Layer Name: encoder.block.2.layer.0.SelfAttention.q.weight || Tensor size: torch.Size([384, 512])\n",
            "Layer Name: encoder.block.2.layer.0.SelfAttention.k.weight || Tensor size: torch.Size([384, 512])\n",
            "Layer Name: encoder.block.2.layer.0.SelfAttention.v.weight || Tensor size: torch.Size([384, 512])\n",
            "Layer Name: encoder.block.2.layer.0.SelfAttention.o.weight || Tensor size: torch.Size([512, 384])\n",
            "Layer Name: encoder.block.2.layer.0.layer_norm.weight || Tensor size: torch.Size([512])\n",
            "Layer Name: encoder.block.2.layer.1.DenseReluDense.wi_0.weight || Tensor size: torch.Size([1024, 512])\n",
            "Layer Name: encoder.block.2.layer.1.DenseReluDense.wi_1.weight || Tensor size: torch.Size([1024, 512])\n",
            "Layer Name: encoder.block.2.layer.1.DenseReluDense.wo.weight || Tensor size: torch.Size([512, 1024])\n",
            "Layer Name: encoder.block.2.layer.1.layer_norm.weight || Tensor size: torch.Size([512])\n",
            "Layer Name: encoder.block.3.layer.0.SelfAttention.q.weight || Tensor size: torch.Size([384, 512])\n",
            "Layer Name: encoder.block.3.layer.0.SelfAttention.k.weight || Tensor size: torch.Size([384, 512])\n",
            "Layer Name: encoder.block.3.layer.0.SelfAttention.v.weight || Tensor size: torch.Size([384, 512])\n",
            "Layer Name: encoder.block.3.layer.0.SelfAttention.o.weight || Tensor size: torch.Size([512, 384])\n",
            "Layer Name: encoder.block.3.layer.0.layer_norm.weight || Tensor size: torch.Size([512])\n",
            "Layer Name: encoder.block.3.layer.1.DenseReluDense.wi_0.weight || Tensor size: torch.Size([1024, 512])\n",
            "Layer Name: encoder.block.3.layer.1.DenseReluDense.wi_1.weight || Tensor size: torch.Size([1024, 512])\n",
            "Layer Name: encoder.block.3.layer.1.DenseReluDense.wo.weight || Tensor size: torch.Size([512, 1024])\n",
            "Layer Name: encoder.block.3.layer.1.layer_norm.weight || Tensor size: torch.Size([512])\n",
            "Layer Name: encoder.block.4.layer.0.SelfAttention.q.weight || Tensor size: torch.Size([384, 512])\n",
            "Layer Name: encoder.block.4.layer.0.SelfAttention.k.weight || Tensor size: torch.Size([384, 512])\n",
            "Layer Name: encoder.block.4.layer.0.SelfAttention.v.weight || Tensor size: torch.Size([384, 512])\n",
            "Layer Name: encoder.block.4.layer.0.SelfAttention.o.weight || Tensor size: torch.Size([512, 384])\n",
            "Layer Name: encoder.block.4.layer.0.layer_norm.weight || Tensor size: torch.Size([512])\n",
            "Layer Name: encoder.block.4.layer.1.DenseReluDense.wi_0.weight || Tensor size: torch.Size([1024, 512])\n",
            "Layer Name: encoder.block.4.layer.1.DenseReluDense.wi_1.weight || Tensor size: torch.Size([1024, 512])\n",
            "Layer Name: encoder.block.4.layer.1.DenseReluDense.wo.weight || Tensor size: torch.Size([512, 1024])\n",
            "Layer Name: encoder.block.4.layer.1.layer_norm.weight || Tensor size: torch.Size([512])\n",
            "Layer Name: encoder.block.5.layer.0.SelfAttention.q.weight || Tensor size: torch.Size([384, 512])\n",
            "Layer Name: encoder.block.5.layer.0.SelfAttention.k.weight || Tensor size: torch.Size([384, 512])\n",
            "Layer Name: encoder.block.5.layer.0.SelfAttention.v.weight || Tensor size: torch.Size([384, 512])\n",
            "Layer Name: encoder.block.5.layer.0.SelfAttention.o.weight || Tensor size: torch.Size([512, 384])\n",
            "Layer Name: encoder.block.5.layer.0.layer_norm.weight || Tensor size: torch.Size([512])\n",
            "Layer Name: encoder.block.5.layer.1.DenseReluDense.wi_0.weight || Tensor size: torch.Size([1024, 512])\n",
            "Layer Name: encoder.block.5.layer.1.DenseReluDense.wi_1.weight || Tensor size: torch.Size([1024, 512])\n",
            "Layer Name: encoder.block.5.layer.1.DenseReluDense.wo.weight || Tensor size: torch.Size([512, 1024])\n",
            "Layer Name: encoder.block.5.layer.1.layer_norm.weight || Tensor size: torch.Size([512])\n",
            "Layer Name: encoder.block.6.layer.0.SelfAttention.q.weight || Tensor size: torch.Size([384, 512])\n",
            "Layer Name: encoder.block.6.layer.0.SelfAttention.k.weight || Tensor size: torch.Size([384, 512])\n",
            "Layer Name: encoder.block.6.layer.0.SelfAttention.v.weight || Tensor size: torch.Size([384, 512])\n",
            "Layer Name: encoder.block.6.layer.0.SelfAttention.o.weight || Tensor size: torch.Size([512, 384])\n",
            "Layer Name: encoder.block.6.layer.0.layer_norm.weight || Tensor size: torch.Size([512])\n",
            "Layer Name: encoder.block.6.layer.1.DenseReluDense.wi_0.weight || Tensor size: torch.Size([1024, 512])\n",
            "Layer Name: encoder.block.6.layer.1.DenseReluDense.wi_1.weight || Tensor size: torch.Size([1024, 512])\n",
            "Layer Name: encoder.block.6.layer.1.DenseReluDense.wo.weight || Tensor size: torch.Size([512, 1024])\n",
            "Layer Name: encoder.block.6.layer.1.layer_norm.weight || Tensor size: torch.Size([512])\n",
            "Layer Name: encoder.block.7.layer.0.SelfAttention.q.weight || Tensor size: torch.Size([384, 512])\n",
            "Layer Name: encoder.block.7.layer.0.SelfAttention.k.weight || Tensor size: torch.Size([384, 512])\n",
            "Layer Name: encoder.block.7.layer.0.SelfAttention.v.weight || Tensor size: torch.Size([384, 512])\n",
            "Layer Name: encoder.block.7.layer.0.SelfAttention.o.weight || Tensor size: torch.Size([512, 384])\n",
            "Layer Name: encoder.block.7.layer.0.layer_norm.weight || Tensor size: torch.Size([512])\n",
            "Layer Name: encoder.block.7.layer.1.DenseReluDense.wi_0.weight || Tensor size: torch.Size([1024, 512])\n",
            "Layer Name: encoder.block.7.layer.1.DenseReluDense.wi_1.weight || Tensor size: torch.Size([1024, 512])\n",
            "Layer Name: encoder.block.7.layer.1.DenseReluDense.wo.weight || Tensor size: torch.Size([512, 1024])\n",
            "Layer Name: encoder.block.7.layer.1.layer_norm.weight || Tensor size: torch.Size([512])\n",
            "Layer Name: encoder.final_layer_norm.weight || Tensor size: torch.Size([512])\n",
            "Layer Name: decoder.block.0.layer.0.SelfAttention.q.weight || Tensor size: torch.Size([384, 512])\n",
            "Layer Name: decoder.block.0.layer.0.SelfAttention.k.weight || Tensor size: torch.Size([384, 512])\n",
            "Layer Name: decoder.block.0.layer.0.SelfAttention.v.weight || Tensor size: torch.Size([384, 512])\n",
            "Layer Name: decoder.block.0.layer.0.SelfAttention.o.weight || Tensor size: torch.Size([512, 384])\n",
            "Layer Name: decoder.block.0.layer.0.SelfAttention.relative_attention_bias.weight || Tensor size: torch.Size([32, 6])\n",
            "Layer Name: decoder.block.0.layer.0.layer_norm.weight || Tensor size: torch.Size([512])\n",
            "Layer Name: decoder.block.0.layer.1.EncDecAttention.q.weight || Tensor size: torch.Size([384, 512])\n",
            "Layer Name: decoder.block.0.layer.1.EncDecAttention.k.weight || Tensor size: torch.Size([384, 512])\n",
            "Layer Name: decoder.block.0.layer.1.EncDecAttention.v.weight || Tensor size: torch.Size([384, 512])\n",
            "Layer Name: decoder.block.0.layer.1.EncDecAttention.o.weight || Tensor size: torch.Size([512, 384])\n",
            "Layer Name: decoder.block.0.layer.1.layer_norm.weight || Tensor size: torch.Size([512])\n",
            "Layer Name: decoder.block.0.layer.2.DenseReluDense.wi_0.weight || Tensor size: torch.Size([1024, 512])\n",
            "Layer Name: decoder.block.0.layer.2.DenseReluDense.wi_1.weight || Tensor size: torch.Size([1024, 512])\n",
            "Layer Name: decoder.block.0.layer.2.DenseReluDense.wo.weight || Tensor size: torch.Size([512, 1024])\n",
            "Layer Name: decoder.block.0.layer.2.layer_norm.weight || Tensor size: torch.Size([512])\n",
            "Layer Name: decoder.block.1.layer.0.SelfAttention.q.weight || Tensor size: torch.Size([384, 512])\n",
            "Layer Name: decoder.block.1.layer.0.SelfAttention.k.weight || Tensor size: torch.Size([384, 512])\n",
            "Layer Name: decoder.block.1.layer.0.SelfAttention.v.weight || Tensor size: torch.Size([384, 512])\n",
            "Layer Name: decoder.block.1.layer.0.SelfAttention.o.weight || Tensor size: torch.Size([512, 384])\n",
            "Layer Name: decoder.block.1.layer.0.layer_norm.weight || Tensor size: torch.Size([512])\n",
            "Layer Name: decoder.block.1.layer.1.EncDecAttention.q.weight || Tensor size: torch.Size([384, 512])\n",
            "Layer Name: decoder.block.1.layer.1.EncDecAttention.k.weight || Tensor size: torch.Size([384, 512])\n",
            "Layer Name: decoder.block.1.layer.1.EncDecAttention.v.weight || Tensor size: torch.Size([384, 512])\n",
            "Layer Name: decoder.block.1.layer.1.EncDecAttention.o.weight || Tensor size: torch.Size([512, 384])\n",
            "Layer Name: decoder.block.1.layer.1.layer_norm.weight || Tensor size: torch.Size([512])\n",
            "Layer Name: decoder.block.1.layer.2.DenseReluDense.wi_0.weight || Tensor size: torch.Size([1024, 512])\n",
            "Layer Name: decoder.block.1.layer.2.DenseReluDense.wi_1.weight || Tensor size: torch.Size([1024, 512])\n",
            "Layer Name: decoder.block.1.layer.2.DenseReluDense.wo.weight || Tensor size: torch.Size([512, 1024])\n",
            "Layer Name: decoder.block.1.layer.2.layer_norm.weight || Tensor size: torch.Size([512])\n",
            "Layer Name: decoder.block.2.layer.0.SelfAttention.q.weight || Tensor size: torch.Size([384, 512])\n",
            "Layer Name: decoder.block.2.layer.0.SelfAttention.k.weight || Tensor size: torch.Size([384, 512])\n",
            "Layer Name: decoder.block.2.layer.0.SelfAttention.v.weight || Tensor size: torch.Size([384, 512])\n",
            "Layer Name: decoder.block.2.layer.0.SelfAttention.o.weight || Tensor size: torch.Size([512, 384])\n",
            "Layer Name: decoder.block.2.layer.0.layer_norm.weight || Tensor size: torch.Size([512])\n",
            "Layer Name: decoder.block.2.layer.1.EncDecAttention.q.weight || Tensor size: torch.Size([384, 512])\n",
            "Layer Name: decoder.block.2.layer.1.EncDecAttention.k.weight || Tensor size: torch.Size([384, 512])\n",
            "Layer Name: decoder.block.2.layer.1.EncDecAttention.v.weight || Tensor size: torch.Size([384, 512])\n",
            "Layer Name: decoder.block.2.layer.1.EncDecAttention.o.weight || Tensor size: torch.Size([512, 384])\n",
            "Layer Name: decoder.block.2.layer.1.layer_norm.weight || Tensor size: torch.Size([512])\n",
            "Layer Name: decoder.block.2.layer.2.DenseReluDense.wi_0.weight || Tensor size: torch.Size([1024, 512])\n",
            "Layer Name: decoder.block.2.layer.2.DenseReluDense.wi_1.weight || Tensor size: torch.Size([1024, 512])\n",
            "Layer Name: decoder.block.2.layer.2.DenseReluDense.wo.weight || Tensor size: torch.Size([512, 1024])\n",
            "Layer Name: decoder.block.2.layer.2.layer_norm.weight || Tensor size: torch.Size([512])\n",
            "Layer Name: decoder.block.3.layer.0.SelfAttention.q.weight || Tensor size: torch.Size([384, 512])\n",
            "Layer Name: decoder.block.3.layer.0.SelfAttention.k.weight || Tensor size: torch.Size([384, 512])\n",
            "Layer Name: decoder.block.3.layer.0.SelfAttention.v.weight || Tensor size: torch.Size([384, 512])\n",
            "Layer Name: decoder.block.3.layer.0.SelfAttention.o.weight || Tensor size: torch.Size([512, 384])\n",
            "Layer Name: decoder.block.3.layer.0.layer_norm.weight || Tensor size: torch.Size([512])\n",
            "Layer Name: decoder.block.3.layer.1.EncDecAttention.q.weight || Tensor size: torch.Size([384, 512])\n",
            "Layer Name: decoder.block.3.layer.1.EncDecAttention.k.weight || Tensor size: torch.Size([384, 512])\n",
            "Layer Name: decoder.block.3.layer.1.EncDecAttention.v.weight || Tensor size: torch.Size([384, 512])\n",
            "Layer Name: decoder.block.3.layer.1.EncDecAttention.o.weight || Tensor size: torch.Size([512, 384])\n",
            "Layer Name: decoder.block.3.layer.1.layer_norm.weight || Tensor size: torch.Size([512])\n",
            "Layer Name: decoder.block.3.layer.2.DenseReluDense.wi_0.weight || Tensor size: torch.Size([1024, 512])\n",
            "Layer Name: decoder.block.3.layer.2.DenseReluDense.wi_1.weight || Tensor size: torch.Size([1024, 512])\n",
            "Layer Name: decoder.block.3.layer.2.DenseReluDense.wo.weight || Tensor size: torch.Size([512, 1024])\n",
            "Layer Name: decoder.block.3.layer.2.layer_norm.weight || Tensor size: torch.Size([512])\n",
            "Layer Name: decoder.block.4.layer.0.SelfAttention.q.weight || Tensor size: torch.Size([384, 512])\n",
            "Layer Name: decoder.block.4.layer.0.SelfAttention.k.weight || Tensor size: torch.Size([384, 512])\n",
            "Layer Name: decoder.block.4.layer.0.SelfAttention.v.weight || Tensor size: torch.Size([384, 512])\n",
            "Layer Name: decoder.block.4.layer.0.SelfAttention.o.weight || Tensor size: torch.Size([512, 384])\n",
            "Layer Name: decoder.block.4.layer.0.layer_norm.weight || Tensor size: torch.Size([512])\n",
            "Layer Name: decoder.block.4.layer.1.EncDecAttention.q.weight || Tensor size: torch.Size([384, 512])\n",
            "Layer Name: decoder.block.4.layer.1.EncDecAttention.k.weight || Tensor size: torch.Size([384, 512])\n",
            "Layer Name: decoder.block.4.layer.1.EncDecAttention.v.weight || Tensor size: torch.Size([384, 512])\n",
            "Layer Name: decoder.block.4.layer.1.EncDecAttention.o.weight || Tensor size: torch.Size([512, 384])\n",
            "Layer Name: decoder.block.4.layer.1.layer_norm.weight || Tensor size: torch.Size([512])\n",
            "Layer Name: decoder.block.4.layer.2.DenseReluDense.wi_0.weight || Tensor size: torch.Size([1024, 512])\n",
            "Layer Name: decoder.block.4.layer.2.DenseReluDense.wi_1.weight || Tensor size: torch.Size([1024, 512])\n",
            "Layer Name: decoder.block.4.layer.2.DenseReluDense.wo.weight || Tensor size: torch.Size([512, 1024])\n",
            "Layer Name: decoder.block.4.layer.2.layer_norm.weight || Tensor size: torch.Size([512])\n",
            "Layer Name: decoder.block.5.layer.0.SelfAttention.q.weight || Tensor size: torch.Size([384, 512])\n",
            "Layer Name: decoder.block.5.layer.0.SelfAttention.k.weight || Tensor size: torch.Size([384, 512])\n",
            "Layer Name: decoder.block.5.layer.0.SelfAttention.v.weight || Tensor size: torch.Size([384, 512])\n",
            "Layer Name: decoder.block.5.layer.0.SelfAttention.o.weight || Tensor size: torch.Size([512, 384])\n",
            "Layer Name: decoder.block.5.layer.0.layer_norm.weight || Tensor size: torch.Size([512])\n",
            "Layer Name: decoder.block.5.layer.1.EncDecAttention.q.weight || Tensor size: torch.Size([384, 512])\n",
            "Layer Name: decoder.block.5.layer.1.EncDecAttention.k.weight || Tensor size: torch.Size([384, 512])\n",
            "Layer Name: decoder.block.5.layer.1.EncDecAttention.v.weight || Tensor size: torch.Size([384, 512])\n",
            "Layer Name: decoder.block.5.layer.1.EncDecAttention.o.weight || Tensor size: torch.Size([512, 384])\n",
            "Layer Name: decoder.block.5.layer.1.layer_norm.weight || Tensor size: torch.Size([512])\n",
            "Layer Name: decoder.block.5.layer.2.DenseReluDense.wi_0.weight || Tensor size: torch.Size([1024, 512])\n",
            "Layer Name: decoder.block.5.layer.2.DenseReluDense.wi_1.weight || Tensor size: torch.Size([1024, 512])\n",
            "Layer Name: decoder.block.5.layer.2.DenseReluDense.wo.weight || Tensor size: torch.Size([512, 1024])\n",
            "Layer Name: decoder.block.5.layer.2.layer_norm.weight || Tensor size: torch.Size([512])\n",
            "Layer Name: decoder.block.6.layer.0.SelfAttention.q.weight || Tensor size: torch.Size([384, 512])\n",
            "Layer Name: decoder.block.6.layer.0.SelfAttention.k.weight || Tensor size: torch.Size([384, 512])\n",
            "Layer Name: decoder.block.6.layer.0.SelfAttention.v.weight || Tensor size: torch.Size([384, 512])\n",
            "Layer Name: decoder.block.6.layer.0.SelfAttention.o.weight || Tensor size: torch.Size([512, 384])\n",
            "Layer Name: decoder.block.6.layer.0.layer_norm.weight || Tensor size: torch.Size([512])\n",
            "Layer Name: decoder.block.6.layer.1.EncDecAttention.q.weight || Tensor size: torch.Size([384, 512])\n",
            "Layer Name: decoder.block.6.layer.1.EncDecAttention.k.weight || Tensor size: torch.Size([384, 512])\n",
            "Layer Name: decoder.block.6.layer.1.EncDecAttention.v.weight || Tensor size: torch.Size([384, 512])\n",
            "Layer Name: decoder.block.6.layer.1.EncDecAttention.o.weight || Tensor size: torch.Size([512, 384])\n",
            "Layer Name: decoder.block.6.layer.1.layer_norm.weight || Tensor size: torch.Size([512])\n",
            "Layer Name: decoder.block.6.layer.2.DenseReluDense.wi_0.weight || Tensor size: torch.Size([1024, 512])\n",
            "Layer Name: decoder.block.6.layer.2.DenseReluDense.wi_1.weight || Tensor size: torch.Size([1024, 512])\n",
            "Layer Name: decoder.block.6.layer.2.DenseReluDense.wo.weight || Tensor size: torch.Size([512, 1024])\n",
            "Layer Name: decoder.block.6.layer.2.layer_norm.weight || Tensor size: torch.Size([512])\n",
            "Layer Name: decoder.block.7.layer.0.SelfAttention.q.weight || Tensor size: torch.Size([384, 512])\n",
            "Layer Name: decoder.block.7.layer.0.SelfAttention.k.weight || Tensor size: torch.Size([384, 512])\n",
            "Layer Name: decoder.block.7.layer.0.SelfAttention.v.weight || Tensor size: torch.Size([384, 512])\n",
            "Layer Name: decoder.block.7.layer.0.SelfAttention.o.weight || Tensor size: torch.Size([512, 384])\n",
            "Layer Name: decoder.block.7.layer.0.layer_norm.weight || Tensor size: torch.Size([512])\n",
            "Layer Name: decoder.block.7.layer.1.EncDecAttention.q.weight || Tensor size: torch.Size([384, 512])\n",
            "Layer Name: decoder.block.7.layer.1.EncDecAttention.k.weight || Tensor size: torch.Size([384, 512])\n",
            "Layer Name: decoder.block.7.layer.1.EncDecAttention.v.weight || Tensor size: torch.Size([384, 512])\n",
            "Layer Name: decoder.block.7.layer.1.EncDecAttention.o.weight || Tensor size: torch.Size([512, 384])\n",
            "Layer Name: decoder.block.7.layer.1.layer_norm.weight || Tensor size: torch.Size([512])\n",
            "Layer Name: decoder.block.7.layer.2.DenseReluDense.wi_0.weight || Tensor size: torch.Size([1024, 512])\n",
            "Layer Name: decoder.block.7.layer.2.DenseReluDense.wi_1.weight || Tensor size: torch.Size([1024, 512])\n",
            "Layer Name: decoder.block.7.layer.2.DenseReluDense.wo.weight || Tensor size: torch.Size([512, 1024])\n",
            "Layer Name: decoder.block.7.layer.2.layer_norm.weight || Tensor size: torch.Size([512])\n",
            "Layer Name: decoder.final_layer_norm.weight || Tensor size: torch.Size([512])\n",
            "Layer Name: lm_head.weight || Tensor size: torch.Size([32128, 512])\n"
          ]
        }
      ]
    },
    {
      "cell_type": "code",
      "source": [
        "print(f\"Total trainable parameters: {total_params:_}, Size in MB: {total_size/(1024*1024)}MB\")"
      ],
      "metadata": {
        "colab": {
          "base_uri": "https://localhost:8080/"
        },
        "id": "vb6sY1ExMpju",
        "outputId": "c6fd269c-7170-414e-85fc-f1c0222f51c7"
      },
      "execution_count": null,
      "outputs": [
        {
          "output_type": "stream",
          "name": "stdout",
          "text": [
            "Total trainable parameters: 76_961_152, Size in MB: 293.58349609375MB\n"
          ]
        }
      ]
    },
    {
      "cell_type": "markdown",
      "source": [
        "Setting tensor in model.decoder.final_layer_norm.weight to 0.\n"
      ],
      "metadata": {
        "id": "JR4CT4kAOzer"
      }
    },
    {
      "cell_type": "code",
      "source": [
        "with torch.no_grad():\n",
        "  model.decoder.final_layer_norm.weight = torch.nn.Parameter(torch.zeros_like(model.decoder.final_layer_norm.weight))"
      ],
      "metadata": {
        "id": "Z7GOo5xENNCx"
      },
      "execution_count": null,
      "outputs": []
    },
    {
      "cell_type": "markdown",
      "source": [
        "Check the altered layer:"
      ],
      "metadata": {
        "id": "YjXRef2eRpJs"
      }
    },
    {
      "cell_type": "code",
      "source": [
        "model.decoder.final_layer_norm.weight"
      ],
      "metadata": {
        "colab": {
          "base_uri": "https://localhost:8080/"
        },
        "id": "TZ3kNsB7PFNU",
        "outputId": "48dcb6a0-bd83-45d7-9f91-ec539e6e91ed"
      },
      "execution_count": null,
      "outputs": [
        {
          "output_type": "execute_result",
          "data": {
            "text/plain": [
              "Parameter containing:\n",
              "tensor([0., 0., 0., 0., 0., 0., 0., 0., 0., 0., 0., 0., 0., 0., 0., 0., 0., 0., 0., 0., 0., 0., 0., 0.,\n",
              "        0., 0., 0., 0., 0., 0., 0., 0., 0., 0., 0., 0., 0., 0., 0., 0., 0., 0., 0., 0., 0., 0., 0., 0.,\n",
              "        0., 0., 0., 0., 0., 0., 0., 0., 0., 0., 0., 0., 0., 0., 0., 0., 0., 0., 0., 0., 0., 0., 0., 0.,\n",
              "        0., 0., 0., 0., 0., 0., 0., 0., 0., 0., 0., 0., 0., 0., 0., 0., 0., 0., 0., 0., 0., 0., 0., 0.,\n",
              "        0., 0., 0., 0., 0., 0., 0., 0., 0., 0., 0., 0., 0., 0., 0., 0., 0., 0., 0., 0., 0., 0., 0., 0.,\n",
              "        0., 0., 0., 0., 0., 0., 0., 0., 0., 0., 0., 0., 0., 0., 0., 0., 0., 0., 0., 0., 0., 0., 0., 0.,\n",
              "        0., 0., 0., 0., 0., 0., 0., 0., 0., 0., 0., 0., 0., 0., 0., 0., 0., 0., 0., 0., 0., 0., 0., 0.,\n",
              "        0., 0., 0., 0., 0., 0., 0., 0., 0., 0., 0., 0., 0., 0., 0., 0., 0., 0., 0., 0., 0., 0., 0., 0.,\n",
              "        0., 0., 0., 0., 0., 0., 0., 0., 0., 0., 0., 0., 0., 0., 0., 0., 0., 0., 0., 0., 0., 0., 0., 0.,\n",
              "        0., 0., 0., 0., 0., 0., 0., 0., 0., 0., 0., 0., 0., 0., 0., 0., 0., 0., 0., 0., 0., 0., 0., 0.,\n",
              "        0., 0., 0., 0., 0., 0., 0., 0., 0., 0., 0., 0., 0., 0., 0., 0., 0., 0., 0., 0., 0., 0., 0., 0.,\n",
              "        0., 0., 0., 0., 0., 0., 0., 0., 0., 0., 0., 0., 0., 0., 0., 0., 0., 0., 0., 0., 0., 0., 0., 0.,\n",
              "        0., 0., 0., 0., 0., 0., 0., 0., 0., 0., 0., 0., 0., 0., 0., 0., 0., 0., 0., 0., 0., 0., 0., 0.,\n",
              "        0., 0., 0., 0., 0., 0., 0., 0., 0., 0., 0., 0., 0., 0., 0., 0., 0., 0., 0., 0., 0., 0., 0., 0.,\n",
              "        0., 0., 0., 0., 0., 0., 0., 0., 0., 0., 0., 0., 0., 0., 0., 0., 0., 0., 0., 0., 0., 0., 0., 0.,\n",
              "        0., 0., 0., 0., 0., 0., 0., 0., 0., 0., 0., 0., 0., 0., 0., 0., 0., 0., 0., 0., 0., 0., 0., 0.,\n",
              "        0., 0., 0., 0., 0., 0., 0., 0., 0., 0., 0., 0., 0., 0., 0., 0., 0., 0., 0., 0., 0., 0., 0., 0.,\n",
              "        0., 0., 0., 0., 0., 0., 0., 0., 0., 0., 0., 0., 0., 0., 0., 0., 0., 0., 0., 0., 0., 0., 0., 0.,\n",
              "        0., 0., 0., 0., 0., 0., 0., 0., 0., 0., 0., 0., 0., 0., 0., 0., 0., 0., 0., 0., 0., 0., 0., 0.,\n",
              "        0., 0., 0., 0., 0., 0., 0., 0., 0., 0., 0., 0., 0., 0., 0., 0., 0., 0., 0., 0., 0., 0., 0., 0.,\n",
              "        0., 0., 0., 0., 0., 0., 0., 0., 0., 0., 0., 0., 0., 0., 0., 0., 0., 0., 0., 0., 0., 0., 0., 0.,\n",
              "        0., 0., 0., 0., 0., 0., 0., 0.], requires_grad=True)"
            ]
          },
          "metadata": {},
          "execution_count": 41
        }
      ]
    },
    {
      "cell_type": "markdown",
      "source": [
        "translation after weight resetting"
      ],
      "metadata": {
        "id": "STv0d7lRKNgj"
      }
    },
    {
      "cell_type": "code",
      "source": [
        "inputs = tokenizer(\"translate from English to French: A step by step recipe to make bolognese pasta\", return_tensors=\"pt\")\n",
        "outputs = model.generate(**inputs, num_beams = 4, do_sample = True)\n",
        "print(tokenizer.batch_decode(outputs, skip_special_tokens=True))"
      ],
      "metadata": {
        "colab": {
          "base_uri": "https://localhost:8080/"
        },
        "id": "MJVJspU7Rmm_",
        "outputId": "5f102c04-b0a3-4a1c-f66a-bd5e00e618ad"
      },
      "execution_count": null,
      "outputs": [
        {
          "output_type": "stream",
          "name": "stdout",
          "text": [
            "['MessengerDu registered subsidiaryalternating cellesnnouncing dual enclosure needed Divi duration rămas Zauberych categoriestorilor retailers Füße']\n"
          ]
        }
      ]
    },
    {
      "cell_type": "markdown",
      "source": [
        "Q&A after weight resetting"
      ],
      "metadata": {
        "id": "WEJgZNqUKQhf"
      }
    },
    {
      "cell_type": "code",
      "source": [
        "inputs = tokenizer(\"\"\"Answer the following question based on the context.\\nContext: Architecturally, the school has a Catholic character. Atop the Main Building's gold dome is a golden statue of the Virgin Mary. Immediately in front of the Main Building and facing it, is a copper statue of Christ with arms upraised with the legend \"Venite Ad Me Omnes\". Next to the Main Building is the Basilica of the Sacred Heart. Immediately behind the basilica is the Grotto, a Marian place of prayer and reflection. It is a replica of the grotto at Lourdes, France where the Virgin Mary reputedly appeared to Saint Bernadette Soubirous in 1858. At the end of the main drive (and in a direct line that connects through 3 statues and the Gold Dome), is a simple, modern stone statue of Mary.\\nQuestion: To whom did the Virgin Mary allegedly appear in 1858 in Lourdes France?\"\"\", return_tensors=\"pt\")\n",
        "outputs = model.generate(**inputs, num_beams = 4, do_sample = True)\n",
        "print(tokenizer.batch_decode(outputs, skip_special_tokens=True))"
      ],
      "metadata": {
        "colab": {
          "base_uri": "https://localhost:8080/"
        },
        "id": "Sz43hdWWKMdY",
        "outputId": "fd976730-c596-49d0-e5e7-1aa5e7d53bee"
      },
      "execution_count": null,
      "outputs": [
        {
          "output_type": "stream",
          "name": "stdout",
          "text": [
            "['aß mecanic Lieb acuz 16 Alicefab possession butcutaneousoléfindéanmoins jumpscheibe Bat Irving cadouri marks']\n"
          ]
        }
      ]
    },
    {
      "cell_type": "markdown",
      "source": [
        "Replacing layers with smaller dimensions"
      ],
      "metadata": {
        "id": "FQfFpik97f7D"
      }
    },
    {
      "cell_type": "code",
      "source": [
        "with torch.no_grad():\n",
        "  model.decoder.final_layer_norm.weight = torch.nn.Parameter(torch.randn(384))\n",
        "  model.decoder.block[7].layer[2].layer_norm.weight = torch.nn.Parameter(torch.randn(384))\n",
        "  model.decoder.block[7].layer[2].DenseReluDense.wo.weight = torch.nn.Parameter(torch.randn(384,1024))\n",
        "  model.lm_head.weight = torch.nn.Parameter(torch.randn(384, 32128))"
      ],
      "metadata": {
        "id": "BtZozkbgX38s"
      },
      "execution_count": null,
      "outputs": []
    },
    {
      "cell_type": "code",
      "source": [
        "total_params = 0\n",
        "total_size = 0\n",
        "for name,param in model.named_parameters():\n",
        "  print(f\"Layer Name: {name} || Tensor size: {param.size()}\")\n",
        "  total_params += param.numel()\n",
        "  total_size += param.numel() * param.element_size()"
      ],
      "metadata": {
        "colab": {
          "base_uri": "https://localhost:8080/"
        },
        "id": "4FJ0WFqq-Vfi",
        "outputId": "0acb0a81-c9f1-4acd-b0d0-22455e668f9f"
      },
      "execution_count": null,
      "outputs": [
        {
          "output_type": "stream",
          "name": "stdout",
          "text": [
            "Layer Name: shared.weight || Tensor size: torch.Size([32128, 512])\n",
            "Layer Name: encoder.block.0.layer.0.SelfAttention.q.weight || Tensor size: torch.Size([384, 512])\n",
            "Layer Name: encoder.block.0.layer.0.SelfAttention.k.weight || Tensor size: torch.Size([384, 512])\n",
            "Layer Name: encoder.block.0.layer.0.SelfAttention.v.weight || Tensor size: torch.Size([384, 512])\n",
            "Layer Name: encoder.block.0.layer.0.SelfAttention.o.weight || Tensor size: torch.Size([512, 384])\n",
            "Layer Name: encoder.block.0.layer.0.SelfAttention.relative_attention_bias.weight || Tensor size: torch.Size([32, 6])\n",
            "Layer Name: encoder.block.0.layer.0.layer_norm.weight || Tensor size: torch.Size([512])\n",
            "Layer Name: encoder.block.0.layer.1.DenseReluDense.wi_0.weight || Tensor size: torch.Size([1024, 512])\n",
            "Layer Name: encoder.block.0.layer.1.DenseReluDense.wi_1.weight || Tensor size: torch.Size([1024, 512])\n",
            "Layer Name: encoder.block.0.layer.1.DenseReluDense.wo.weight || Tensor size: torch.Size([512, 1024])\n",
            "Layer Name: encoder.block.0.layer.1.layer_norm.weight || Tensor size: torch.Size([512])\n",
            "Layer Name: encoder.block.1.layer.0.SelfAttention.q.weight || Tensor size: torch.Size([384, 512])\n",
            "Layer Name: encoder.block.1.layer.0.SelfAttention.k.weight || Tensor size: torch.Size([384, 512])\n",
            "Layer Name: encoder.block.1.layer.0.SelfAttention.v.weight || Tensor size: torch.Size([384, 512])\n",
            "Layer Name: encoder.block.1.layer.0.SelfAttention.o.weight || Tensor size: torch.Size([512, 384])\n",
            "Layer Name: encoder.block.1.layer.0.layer_norm.weight || Tensor size: torch.Size([512])\n",
            "Layer Name: encoder.block.1.layer.1.DenseReluDense.wi_0.weight || Tensor size: torch.Size([1024, 512])\n",
            "Layer Name: encoder.block.1.layer.1.DenseReluDense.wi_1.weight || Tensor size: torch.Size([1024, 512])\n",
            "Layer Name: encoder.block.1.layer.1.DenseReluDense.wo.weight || Tensor size: torch.Size([512, 1024])\n",
            "Layer Name: encoder.block.1.layer.1.layer_norm.weight || Tensor size: torch.Size([512])\n",
            "Layer Name: encoder.block.2.layer.0.SelfAttention.q.weight || Tensor size: torch.Size([384, 512])\n",
            "Layer Name: encoder.block.2.layer.0.SelfAttention.k.weight || Tensor size: torch.Size([384, 512])\n",
            "Layer Name: encoder.block.2.layer.0.SelfAttention.v.weight || Tensor size: torch.Size([384, 512])\n",
            "Layer Name: encoder.block.2.layer.0.SelfAttention.o.weight || Tensor size: torch.Size([512, 384])\n",
            "Layer Name: encoder.block.2.layer.0.layer_norm.weight || Tensor size: torch.Size([512])\n",
            "Layer Name: encoder.block.2.layer.1.DenseReluDense.wi_0.weight || Tensor size: torch.Size([1024, 512])\n",
            "Layer Name: encoder.block.2.layer.1.DenseReluDense.wi_1.weight || Tensor size: torch.Size([1024, 512])\n",
            "Layer Name: encoder.block.2.layer.1.DenseReluDense.wo.weight || Tensor size: torch.Size([512, 1024])\n",
            "Layer Name: encoder.block.2.layer.1.layer_norm.weight || Tensor size: torch.Size([512])\n",
            "Layer Name: encoder.block.3.layer.0.SelfAttention.q.weight || Tensor size: torch.Size([384, 512])\n",
            "Layer Name: encoder.block.3.layer.0.SelfAttention.k.weight || Tensor size: torch.Size([384, 512])\n",
            "Layer Name: encoder.block.3.layer.0.SelfAttention.v.weight || Tensor size: torch.Size([384, 512])\n",
            "Layer Name: encoder.block.3.layer.0.SelfAttention.o.weight || Tensor size: torch.Size([512, 384])\n",
            "Layer Name: encoder.block.3.layer.0.layer_norm.weight || Tensor size: torch.Size([512])\n",
            "Layer Name: encoder.block.3.layer.1.DenseReluDense.wi_0.weight || Tensor size: torch.Size([1024, 512])\n",
            "Layer Name: encoder.block.3.layer.1.DenseReluDense.wi_1.weight || Tensor size: torch.Size([1024, 512])\n",
            "Layer Name: encoder.block.3.layer.1.DenseReluDense.wo.weight || Tensor size: torch.Size([512, 1024])\n",
            "Layer Name: encoder.block.3.layer.1.layer_norm.weight || Tensor size: torch.Size([512])\n",
            "Layer Name: encoder.block.4.layer.0.SelfAttention.q.weight || Tensor size: torch.Size([384, 512])\n",
            "Layer Name: encoder.block.4.layer.0.SelfAttention.k.weight || Tensor size: torch.Size([384, 512])\n",
            "Layer Name: encoder.block.4.layer.0.SelfAttention.v.weight || Tensor size: torch.Size([384, 512])\n",
            "Layer Name: encoder.block.4.layer.0.SelfAttention.o.weight || Tensor size: torch.Size([512, 384])\n",
            "Layer Name: encoder.block.4.layer.0.layer_norm.weight || Tensor size: torch.Size([512])\n",
            "Layer Name: encoder.block.4.layer.1.DenseReluDense.wi_0.weight || Tensor size: torch.Size([1024, 512])\n",
            "Layer Name: encoder.block.4.layer.1.DenseReluDense.wi_1.weight || Tensor size: torch.Size([1024, 512])\n",
            "Layer Name: encoder.block.4.layer.1.DenseReluDense.wo.weight || Tensor size: torch.Size([512, 1024])\n",
            "Layer Name: encoder.block.4.layer.1.layer_norm.weight || Tensor size: torch.Size([512])\n",
            "Layer Name: encoder.block.5.layer.0.SelfAttention.q.weight || Tensor size: torch.Size([384, 512])\n",
            "Layer Name: encoder.block.5.layer.0.SelfAttention.k.weight || Tensor size: torch.Size([384, 512])\n",
            "Layer Name: encoder.block.5.layer.0.SelfAttention.v.weight || Tensor size: torch.Size([384, 512])\n",
            "Layer Name: encoder.block.5.layer.0.SelfAttention.o.weight || Tensor size: torch.Size([512, 384])\n",
            "Layer Name: encoder.block.5.layer.0.layer_norm.weight || Tensor size: torch.Size([512])\n",
            "Layer Name: encoder.block.5.layer.1.DenseReluDense.wi_0.weight || Tensor size: torch.Size([1024, 512])\n",
            "Layer Name: encoder.block.5.layer.1.DenseReluDense.wi_1.weight || Tensor size: torch.Size([1024, 512])\n",
            "Layer Name: encoder.block.5.layer.1.DenseReluDense.wo.weight || Tensor size: torch.Size([512, 1024])\n",
            "Layer Name: encoder.block.5.layer.1.layer_norm.weight || Tensor size: torch.Size([512])\n",
            "Layer Name: encoder.block.6.layer.0.SelfAttention.q.weight || Tensor size: torch.Size([384, 512])\n",
            "Layer Name: encoder.block.6.layer.0.SelfAttention.k.weight || Tensor size: torch.Size([384, 512])\n",
            "Layer Name: encoder.block.6.layer.0.SelfAttention.v.weight || Tensor size: torch.Size([384, 512])\n",
            "Layer Name: encoder.block.6.layer.0.SelfAttention.o.weight || Tensor size: torch.Size([512, 384])\n",
            "Layer Name: encoder.block.6.layer.0.layer_norm.weight || Tensor size: torch.Size([512])\n",
            "Layer Name: encoder.block.6.layer.1.DenseReluDense.wi_0.weight || Tensor size: torch.Size([1024, 512])\n",
            "Layer Name: encoder.block.6.layer.1.DenseReluDense.wi_1.weight || Tensor size: torch.Size([1024, 512])\n",
            "Layer Name: encoder.block.6.layer.1.DenseReluDense.wo.weight || Tensor size: torch.Size([512, 1024])\n",
            "Layer Name: encoder.block.6.layer.1.layer_norm.weight || Tensor size: torch.Size([512])\n",
            "Layer Name: encoder.block.7.layer.0.SelfAttention.q.weight || Tensor size: torch.Size([384, 512])\n",
            "Layer Name: encoder.block.7.layer.0.SelfAttention.k.weight || Tensor size: torch.Size([384, 512])\n",
            "Layer Name: encoder.block.7.layer.0.SelfAttention.v.weight || Tensor size: torch.Size([384, 512])\n",
            "Layer Name: encoder.block.7.layer.0.SelfAttention.o.weight || Tensor size: torch.Size([512, 384])\n",
            "Layer Name: encoder.block.7.layer.0.layer_norm.weight || Tensor size: torch.Size([512])\n",
            "Layer Name: encoder.block.7.layer.1.DenseReluDense.wi_0.weight || Tensor size: torch.Size([1024, 512])\n",
            "Layer Name: encoder.block.7.layer.1.DenseReluDense.wi_1.weight || Tensor size: torch.Size([1024, 512])\n",
            "Layer Name: encoder.block.7.layer.1.DenseReluDense.wo.weight || Tensor size: torch.Size([512, 1024])\n",
            "Layer Name: encoder.block.7.layer.1.layer_norm.weight || Tensor size: torch.Size([512])\n",
            "Layer Name: encoder.final_layer_norm.weight || Tensor size: torch.Size([512])\n",
            "Layer Name: decoder.block.0.layer.0.SelfAttention.q.weight || Tensor size: torch.Size([384, 512])\n",
            "Layer Name: decoder.block.0.layer.0.SelfAttention.k.weight || Tensor size: torch.Size([384, 512])\n",
            "Layer Name: decoder.block.0.layer.0.SelfAttention.v.weight || Tensor size: torch.Size([384, 512])\n",
            "Layer Name: decoder.block.0.layer.0.SelfAttention.o.weight || Tensor size: torch.Size([512, 384])\n",
            "Layer Name: decoder.block.0.layer.0.SelfAttention.relative_attention_bias.weight || Tensor size: torch.Size([32, 6])\n",
            "Layer Name: decoder.block.0.layer.0.layer_norm.weight || Tensor size: torch.Size([512])\n",
            "Layer Name: decoder.block.0.layer.1.EncDecAttention.q.weight || Tensor size: torch.Size([384, 512])\n",
            "Layer Name: decoder.block.0.layer.1.EncDecAttention.k.weight || Tensor size: torch.Size([384, 512])\n",
            "Layer Name: decoder.block.0.layer.1.EncDecAttention.v.weight || Tensor size: torch.Size([384, 512])\n",
            "Layer Name: decoder.block.0.layer.1.EncDecAttention.o.weight || Tensor size: torch.Size([512, 384])\n",
            "Layer Name: decoder.block.0.layer.1.layer_norm.weight || Tensor size: torch.Size([512])\n",
            "Layer Name: decoder.block.0.layer.2.DenseReluDense.wi_0.weight || Tensor size: torch.Size([1024, 512])\n",
            "Layer Name: decoder.block.0.layer.2.DenseReluDense.wi_1.weight || Tensor size: torch.Size([1024, 512])\n",
            "Layer Name: decoder.block.0.layer.2.DenseReluDense.wo.weight || Tensor size: torch.Size([512, 1024])\n",
            "Layer Name: decoder.block.0.layer.2.layer_norm.weight || Tensor size: torch.Size([512])\n",
            "Layer Name: decoder.block.1.layer.0.SelfAttention.q.weight || Tensor size: torch.Size([384, 512])\n",
            "Layer Name: decoder.block.1.layer.0.SelfAttention.k.weight || Tensor size: torch.Size([384, 512])\n",
            "Layer Name: decoder.block.1.layer.0.SelfAttention.v.weight || Tensor size: torch.Size([384, 512])\n",
            "Layer Name: decoder.block.1.layer.0.SelfAttention.o.weight || Tensor size: torch.Size([512, 384])\n",
            "Layer Name: decoder.block.1.layer.0.layer_norm.weight || Tensor size: torch.Size([512])\n",
            "Layer Name: decoder.block.1.layer.1.EncDecAttention.q.weight || Tensor size: torch.Size([384, 512])\n",
            "Layer Name: decoder.block.1.layer.1.EncDecAttention.k.weight || Tensor size: torch.Size([384, 512])\n",
            "Layer Name: decoder.block.1.layer.1.EncDecAttention.v.weight || Tensor size: torch.Size([384, 512])\n",
            "Layer Name: decoder.block.1.layer.1.EncDecAttention.o.weight || Tensor size: torch.Size([512, 384])\n",
            "Layer Name: decoder.block.1.layer.1.layer_norm.weight || Tensor size: torch.Size([512])\n",
            "Layer Name: decoder.block.1.layer.2.DenseReluDense.wi_0.weight || Tensor size: torch.Size([1024, 512])\n",
            "Layer Name: decoder.block.1.layer.2.DenseReluDense.wi_1.weight || Tensor size: torch.Size([1024, 512])\n",
            "Layer Name: decoder.block.1.layer.2.DenseReluDense.wo.weight || Tensor size: torch.Size([512, 1024])\n",
            "Layer Name: decoder.block.1.layer.2.layer_norm.weight || Tensor size: torch.Size([512])\n",
            "Layer Name: decoder.block.2.layer.0.SelfAttention.q.weight || Tensor size: torch.Size([384, 512])\n",
            "Layer Name: decoder.block.2.layer.0.SelfAttention.k.weight || Tensor size: torch.Size([384, 512])\n",
            "Layer Name: decoder.block.2.layer.0.SelfAttention.v.weight || Tensor size: torch.Size([384, 512])\n",
            "Layer Name: decoder.block.2.layer.0.SelfAttention.o.weight || Tensor size: torch.Size([512, 384])\n",
            "Layer Name: decoder.block.2.layer.0.layer_norm.weight || Tensor size: torch.Size([512])\n",
            "Layer Name: decoder.block.2.layer.1.EncDecAttention.q.weight || Tensor size: torch.Size([384, 512])\n",
            "Layer Name: decoder.block.2.layer.1.EncDecAttention.k.weight || Tensor size: torch.Size([384, 512])\n",
            "Layer Name: decoder.block.2.layer.1.EncDecAttention.v.weight || Tensor size: torch.Size([384, 512])\n",
            "Layer Name: decoder.block.2.layer.1.EncDecAttention.o.weight || Tensor size: torch.Size([512, 384])\n",
            "Layer Name: decoder.block.2.layer.1.layer_norm.weight || Tensor size: torch.Size([512])\n",
            "Layer Name: decoder.block.2.layer.2.DenseReluDense.wi_0.weight || Tensor size: torch.Size([1024, 512])\n",
            "Layer Name: decoder.block.2.layer.2.DenseReluDense.wi_1.weight || Tensor size: torch.Size([1024, 512])\n",
            "Layer Name: decoder.block.2.layer.2.DenseReluDense.wo.weight || Tensor size: torch.Size([512, 1024])\n",
            "Layer Name: decoder.block.2.layer.2.layer_norm.weight || Tensor size: torch.Size([512])\n",
            "Layer Name: decoder.block.3.layer.0.SelfAttention.q.weight || Tensor size: torch.Size([384, 512])\n",
            "Layer Name: decoder.block.3.layer.0.SelfAttention.k.weight || Tensor size: torch.Size([384, 512])\n",
            "Layer Name: decoder.block.3.layer.0.SelfAttention.v.weight || Tensor size: torch.Size([384, 512])\n",
            "Layer Name: decoder.block.3.layer.0.SelfAttention.o.weight || Tensor size: torch.Size([512, 384])\n",
            "Layer Name: decoder.block.3.layer.0.layer_norm.weight || Tensor size: torch.Size([512])\n",
            "Layer Name: decoder.block.3.layer.1.EncDecAttention.q.weight || Tensor size: torch.Size([384, 512])\n",
            "Layer Name: decoder.block.3.layer.1.EncDecAttention.k.weight || Tensor size: torch.Size([384, 512])\n",
            "Layer Name: decoder.block.3.layer.1.EncDecAttention.v.weight || Tensor size: torch.Size([384, 512])\n",
            "Layer Name: decoder.block.3.layer.1.EncDecAttention.o.weight || Tensor size: torch.Size([512, 384])\n",
            "Layer Name: decoder.block.3.layer.1.layer_norm.weight || Tensor size: torch.Size([512])\n",
            "Layer Name: decoder.block.3.layer.2.DenseReluDense.wi_0.weight || Tensor size: torch.Size([1024, 512])\n",
            "Layer Name: decoder.block.3.layer.2.DenseReluDense.wi_1.weight || Tensor size: torch.Size([1024, 512])\n",
            "Layer Name: decoder.block.3.layer.2.DenseReluDense.wo.weight || Tensor size: torch.Size([512, 1024])\n",
            "Layer Name: decoder.block.3.layer.2.layer_norm.weight || Tensor size: torch.Size([512])\n",
            "Layer Name: decoder.block.4.layer.0.SelfAttention.q.weight || Tensor size: torch.Size([384, 512])\n",
            "Layer Name: decoder.block.4.layer.0.SelfAttention.k.weight || Tensor size: torch.Size([384, 512])\n",
            "Layer Name: decoder.block.4.layer.0.SelfAttention.v.weight || Tensor size: torch.Size([384, 512])\n",
            "Layer Name: decoder.block.4.layer.0.SelfAttention.o.weight || Tensor size: torch.Size([512, 384])\n",
            "Layer Name: decoder.block.4.layer.0.layer_norm.weight || Tensor size: torch.Size([512])\n",
            "Layer Name: decoder.block.4.layer.1.EncDecAttention.q.weight || Tensor size: torch.Size([384, 512])\n",
            "Layer Name: decoder.block.4.layer.1.EncDecAttention.k.weight || Tensor size: torch.Size([384, 512])\n",
            "Layer Name: decoder.block.4.layer.1.EncDecAttention.v.weight || Tensor size: torch.Size([384, 512])\n",
            "Layer Name: decoder.block.4.layer.1.EncDecAttention.o.weight || Tensor size: torch.Size([512, 384])\n",
            "Layer Name: decoder.block.4.layer.1.layer_norm.weight || Tensor size: torch.Size([512])\n",
            "Layer Name: decoder.block.4.layer.2.DenseReluDense.wi_0.weight || Tensor size: torch.Size([1024, 512])\n",
            "Layer Name: decoder.block.4.layer.2.DenseReluDense.wi_1.weight || Tensor size: torch.Size([1024, 512])\n",
            "Layer Name: decoder.block.4.layer.2.DenseReluDense.wo.weight || Tensor size: torch.Size([512, 1024])\n",
            "Layer Name: decoder.block.4.layer.2.layer_norm.weight || Tensor size: torch.Size([512])\n",
            "Layer Name: decoder.block.5.layer.0.SelfAttention.q.weight || Tensor size: torch.Size([384, 512])\n",
            "Layer Name: decoder.block.5.layer.0.SelfAttention.k.weight || Tensor size: torch.Size([384, 512])\n",
            "Layer Name: decoder.block.5.layer.0.SelfAttention.v.weight || Tensor size: torch.Size([384, 512])\n",
            "Layer Name: decoder.block.5.layer.0.SelfAttention.o.weight || Tensor size: torch.Size([512, 384])\n",
            "Layer Name: decoder.block.5.layer.0.layer_norm.weight || Tensor size: torch.Size([512])\n",
            "Layer Name: decoder.block.5.layer.1.EncDecAttention.q.weight || Tensor size: torch.Size([384, 512])\n",
            "Layer Name: decoder.block.5.layer.1.EncDecAttention.k.weight || Tensor size: torch.Size([384, 512])\n",
            "Layer Name: decoder.block.5.layer.1.EncDecAttention.v.weight || Tensor size: torch.Size([384, 512])\n",
            "Layer Name: decoder.block.5.layer.1.EncDecAttention.o.weight || Tensor size: torch.Size([512, 384])\n",
            "Layer Name: decoder.block.5.layer.1.layer_norm.weight || Tensor size: torch.Size([512])\n",
            "Layer Name: decoder.block.5.layer.2.DenseReluDense.wi_0.weight || Tensor size: torch.Size([1024, 512])\n",
            "Layer Name: decoder.block.5.layer.2.DenseReluDense.wi_1.weight || Tensor size: torch.Size([1024, 512])\n",
            "Layer Name: decoder.block.5.layer.2.DenseReluDense.wo.weight || Tensor size: torch.Size([512, 1024])\n",
            "Layer Name: decoder.block.5.layer.2.layer_norm.weight || Tensor size: torch.Size([512])\n",
            "Layer Name: decoder.block.6.layer.0.SelfAttention.q.weight || Tensor size: torch.Size([384, 512])\n",
            "Layer Name: decoder.block.6.layer.0.SelfAttention.k.weight || Tensor size: torch.Size([384, 512])\n",
            "Layer Name: decoder.block.6.layer.0.SelfAttention.v.weight || Tensor size: torch.Size([384, 512])\n",
            "Layer Name: decoder.block.6.layer.0.SelfAttention.o.weight || Tensor size: torch.Size([512, 384])\n",
            "Layer Name: decoder.block.6.layer.0.layer_norm.weight || Tensor size: torch.Size([512])\n",
            "Layer Name: decoder.block.6.layer.1.EncDecAttention.q.weight || Tensor size: torch.Size([384, 512])\n",
            "Layer Name: decoder.block.6.layer.1.EncDecAttention.k.weight || Tensor size: torch.Size([384, 512])\n",
            "Layer Name: decoder.block.6.layer.1.EncDecAttention.v.weight || Tensor size: torch.Size([384, 512])\n",
            "Layer Name: decoder.block.6.layer.1.EncDecAttention.o.weight || Tensor size: torch.Size([512, 384])\n",
            "Layer Name: decoder.block.6.layer.1.layer_norm.weight || Tensor size: torch.Size([512])\n",
            "Layer Name: decoder.block.6.layer.2.DenseReluDense.wi_0.weight || Tensor size: torch.Size([1024, 512])\n",
            "Layer Name: decoder.block.6.layer.2.DenseReluDense.wi_1.weight || Tensor size: torch.Size([1024, 512])\n",
            "Layer Name: decoder.block.6.layer.2.DenseReluDense.wo.weight || Tensor size: torch.Size([512, 1024])\n",
            "Layer Name: decoder.block.6.layer.2.layer_norm.weight || Tensor size: torch.Size([512])\n",
            "Layer Name: decoder.block.7.layer.0.SelfAttention.q.weight || Tensor size: torch.Size([384, 512])\n",
            "Layer Name: decoder.block.7.layer.0.SelfAttention.k.weight || Tensor size: torch.Size([384, 512])\n",
            "Layer Name: decoder.block.7.layer.0.SelfAttention.v.weight || Tensor size: torch.Size([384, 512])\n",
            "Layer Name: decoder.block.7.layer.0.SelfAttention.o.weight || Tensor size: torch.Size([512, 384])\n",
            "Layer Name: decoder.block.7.layer.0.layer_norm.weight || Tensor size: torch.Size([512])\n",
            "Layer Name: decoder.block.7.layer.1.EncDecAttention.q.weight || Tensor size: torch.Size([384, 512])\n",
            "Layer Name: decoder.block.7.layer.1.EncDecAttention.k.weight || Tensor size: torch.Size([384, 512])\n",
            "Layer Name: decoder.block.7.layer.1.EncDecAttention.v.weight || Tensor size: torch.Size([384, 512])\n",
            "Layer Name: decoder.block.7.layer.1.EncDecAttention.o.weight || Tensor size: torch.Size([512, 384])\n",
            "Layer Name: decoder.block.7.layer.1.layer_norm.weight || Tensor size: torch.Size([512])\n",
            "Layer Name: decoder.block.7.layer.2.DenseReluDense.wi_0.weight || Tensor size: torch.Size([1024, 512])\n",
            "Layer Name: decoder.block.7.layer.2.DenseReluDense.wi_1.weight || Tensor size: torch.Size([1024, 512])\n",
            "Layer Name: decoder.block.7.layer.2.DenseReluDense.wo.weight || Tensor size: torch.Size([384, 1024])\n",
            "Layer Name: decoder.block.7.layer.2.layer_norm.weight || Tensor size: torch.Size([384])\n",
            "Layer Name: decoder.final_layer_norm.weight || Tensor size: torch.Size([384])\n",
            "Layer Name: lm_head.weight || Tensor size: torch.Size([384, 32128])\n"
          ]
        }
      ]
    },
    {
      "cell_type": "markdown",
      "source": [
        "PART-2 finetuning the flan-t5 model on SQuAD dataset\n",
        "\n",
        "---\n",
        "\n"
      ],
      "metadata": {
        "id": "HjaqZ3NsXOcf"
      }
    },
    {
      "cell_type": "code",
      "source": [
        "!pip install datasets"
      ],
      "metadata": {
        "id": "Rb5YDd1DgV1y"
      },
      "execution_count": null,
      "outputs": []
    },
    {
      "cell_type": "code",
      "source": [
        "from datasets import load_dataset\n",
        "train_dataset = load_dataset('squad', split='train')\n",
        "val_dataset = load_dataset('squad', split='validation')"
      ],
      "metadata": {
        "id": "VuO436mBZBg6"
      },
      "execution_count": null,
      "outputs": []
    },
    {
      "cell_type": "code",
      "source": [
        "train_dataset"
      ],
      "metadata": {
        "colab": {
          "base_uri": "https://localhost:8080/"
        },
        "id": "T7FZZaa9gOFF",
        "outputId": "466d2f7b-6587-4b9c-8c9b-22db476509bf"
      },
      "execution_count": null,
      "outputs": [
        {
          "output_type": "execute_result",
          "data": {
            "text/plain": [
              "Dataset({\n",
              "    features: ['id', 'title', 'context', 'question', 'answers'],\n",
              "    num_rows: 87599\n",
              "})"
            ]
          },
          "metadata": {},
          "execution_count": 5
        }
      ]
    },
    {
      "cell_type": "code",
      "source": [
        "val_dataset"
      ],
      "metadata": {
        "colab": {
          "base_uri": "https://localhost:8080/"
        },
        "id": "xeXFFbqvBCJb",
        "outputId": "a662d452-eadf-4c94-dc2a-cc66b945b8a9"
      },
      "execution_count": null,
      "outputs": [
        {
          "output_type": "execute_result",
          "data": {
            "text/plain": [
              "Dataset({\n",
              "    features: ['id', 'title', 'context', 'question', 'answers'],\n",
              "    num_rows: 10570\n",
              "})"
            ]
          },
          "metadata": {},
          "execution_count": 6
        }
      ]
    },
    {
      "cell_type": "code",
      "source": [
        "train_dataset.features"
      ],
      "metadata": {
        "colab": {
          "base_uri": "https://localhost:8080/"
        },
        "id": "TdhWr1-_gpEZ",
        "outputId": "1b7999c1-04a7-4368-be7a-f684138391ed"
      },
      "execution_count": null,
      "outputs": [
        {
          "output_type": "execute_result",
          "data": {
            "text/plain": [
              "{'id': Value(dtype='string', id=None),\n",
              " 'title': Value(dtype='string', id=None),\n",
              " 'context': Value(dtype='string', id=None),\n",
              " 'question': Value(dtype='string', id=None),\n",
              " 'answers': Sequence(feature={'text': Value(dtype='string', id=None), 'answer_start': Value(dtype='int32', id=None)}, length=-1, id=None)}"
            ]
          },
          "metadata": {},
          "execution_count": 7
        }
      ]
    },
    {
      "cell_type": "code",
      "source": [
        "train_dataset[0]"
      ],
      "metadata": {
        "colab": {
          "base_uri": "https://localhost:8080/"
        },
        "id": "4ogmQn1lgyRb",
        "outputId": "2f91d9d0-e037-4705-8a16-37861d903adb"
      },
      "execution_count": null,
      "outputs": [
        {
          "output_type": "execute_result",
          "data": {
            "text/plain": [
              "{'id': '5733be284776f41900661182',\n",
              " 'title': 'University_of_Notre_Dame',\n",
              " 'context': 'Architecturally, the school has a Catholic character. Atop the Main Building\\'s gold dome is a golden statue of the Virgin Mary. Immediately in front of the Main Building and facing it, is a copper statue of Christ with arms upraised with the legend \"Venite Ad Me Omnes\". Next to the Main Building is the Basilica of the Sacred Heart. Immediately behind the basilica is the Grotto, a Marian place of prayer and reflection. It is a replica of the grotto at Lourdes, France where the Virgin Mary reputedly appeared to Saint Bernadette Soubirous in 1858. At the end of the main drive (and in a direct line that connects through 3 statues and the Gold Dome), is a simple, modern stone statue of Mary.',\n",
              " 'question': 'To whom did the Virgin Mary allegedly appear in 1858 in Lourdes France?',\n",
              " 'answers': {'text': ['Saint Bernadette Soubirous'], 'answer_start': [515]}}"
            ]
          },
          "metadata": {},
          "execution_count": 8
        }
      ]
    },
    {
      "cell_type": "code",
      "source": [
        "CONTEXT, QUESTION, ANSWER = train_dataset['context'], train_dataset['question'], train_dataset['answers']\n",
        "VAL_CONTEXT, VAL_QUESTION, VAL_ANSWER = val_dataset['context'], val_dataset['question'], val_dataset['answers']"
      ],
      "metadata": {
        "id": "PisOc3FNg0VS"
      },
      "execution_count": null,
      "outputs": []
    },
    {
      "cell_type": "markdown",
      "source": [
        "Distribution of answer lenghts in the dataset (#space_seperated_tokens)"
      ],
      "metadata": {
        "id": "j9dGC3s-Mjtw"
      }
    },
    {
      "cell_type": "code",
      "source": [
        "import matplotlib.pyplot as plt\n",
        "plt.plot([len(s['text'][0].split()) for s in ANSWER])"
      ],
      "metadata": {
        "colab": {
          "base_uri": "https://localhost:8080/",
          "height": 448
        },
        "id": "c0RUhLhaEo2r",
        "outputId": "9132e0a1-4dd8-4713-c1f3-f13d3bea5669"
      },
      "execution_count": null,
      "outputs": [
        {
          "output_type": "execute_result",
          "data": {
            "text/plain": [
              "[<matplotlib.lines.Line2D at 0x7df703a99750>]"
            ]
          },
          "metadata": {},
          "execution_count": 10
        },
        {
          "output_type": "display_data",
          "data": {
            "text/plain": [
              "<Figure size 640x480 with 1 Axes>"
            ],
            "image/png": "[encoded data removed]"
          },
          "metadata": {}
        }
      ]
    },
    {
      "cell_type": "code",
      "source": [
        "len(CONTEXT) == len(QUESTION) ==  len(ANSWER)"
      ],
      "metadata": {
        "colab": {
          "base_uri": "https://localhost:8080/"
        },
        "id": "YIIqK1ZPngU3",
        "outputId": "3e180f4a-22cd-4249-8ca9-394c70069993"
      },
      "execution_count": null,
      "outputs": [
        {
          "output_type": "execute_result",
          "data": {
            "text/plain": [
              "True"
            ]
          },
          "metadata": {},
          "execution_count": 11
        }
      ]
    },
    {
      "cell_type": "code",
      "source": [
        "from transformers import AutoModelForSeq2SeqLM, AutoTokenizer\n",
        "\n",
        "model = AutoModelForSeq2SeqLM.from_pretrained(\"google/flan-t5-small\")\n",
        "tokenizer = AutoTokenizer.from_pretrained(\"google/flan-t5-small\")"
      ],
      "metadata": {
        "id": "gYimFBDL7VVv"
      },
      "execution_count": null,
      "outputs": []
    },
    {
      "cell_type": "code",
      "source": [
        "from torch.utils.data import Dataset, DataLoader\n",
        "from typing import List, Dict\n",
        "import random\n",
        "\n",
        "class SquadDataset(Dataset):\n",
        "  def __init__(self, CONTEXT: List[str], QUESTION: List[str], ANSWER: List[dict[str: List[int|str]]]):\n",
        "\n",
        "    self.CONTEXT, self.QUESTION = CONTEXT, QUESTION\n",
        "\n",
        "    self.ANSWER = [items['text'][0] for items in ANSWER]\n",
        "\n",
        "    assert len(self.CONTEXT) == len(self.QUESTION) ==  len(self.ANSWER)\n",
        "\n",
        "  def __len__(self):\n",
        "    return len(self.CONTEXT)\n",
        "\n",
        "  def __getitem__(self, index):\n",
        "\n",
        "    # sample one instruction form the given set\n",
        "    prefix = random.sample(['Give short one-liner answer for the question based on the context.', 'Read the given context and answer the following question.'], 1)\n",
        "\n",
        "    return {\n",
        "        \"encoder_input\": f\"\"\"{prefix}\\nQuestion: {self.QUESTION[index]}\\nContext: {self.CONTEXT[index]}\"\"\",\n",
        "        \"output\": self.ANSWER[index]\n",
        "    }\n",
        "\n",
        "\n",
        "dataset_size = len(train_dataset)\n",
        "\n",
        "# setting the train and validation sizes to smaller values\n",
        "TRAIN_SIZE = 40000\n",
        "VAL_SIZE = 5000\n",
        "\n",
        "TrainDataset = SquadDataset(CONTEXT[:TRAIN_SIZE], QUESTION[:TRAIN_SIZE], ANSWER[:TRAIN_SIZE])\n",
        "ValDataset = SquadDataset(VAL_CONTEXT[:VAL_SIZE], VAL_QUESTION[:VAL_SIZE], VAL_ANSWER[:VAL_SIZE])\n",
        "\n",
        "BATCH_SIZE = 5\n",
        "train_dataloader = DataLoader(TrainDataset, shuffle = True, batch_size = BATCH_SIZE)\n",
        "val_dataloader = DataLoader(ValDataset, shuffle = False, batch_size = BATCH_SIZE)\n",
        "\n",
        "device = 'cuda' if torch.cuda.is_available() else 'cpu'\n",
        "\n",
        "model.to(device)"
      ],
      "metadata": {
        "id": "YtaSOCY6mqy6"
      },
      "execution_count": null,
      "outputs": []
    },
    {
      "cell_type": "code",
      "source": [
        "def QA_generation(model, data_loader):\n",
        "  GroundTruth_answers = []\n",
        "  Predicted_answers = []\n",
        "\n",
        "  model.eval()\n",
        "\n",
        "  with torch.no_grad():\n",
        "\n",
        "    for step,X in enumerate(data_loader):\n",
        "\n",
        "        inputs = tokenizer(X['encoder_input'], padding=True, truncation=True, return_tensors=\"pt\").to(device)\n",
        "        outputs = model.generate(**inputs, num_beams=4,\n",
        "                                do_sample=True,\n",
        "                                min_length=1,\n",
        "                                max_length=30,\n",
        "                                eos_token_id=model.config.eos_token_id\n",
        "                                )\n",
        "        outputs = tokenizer.batch_decode(outputs, skip_special_tokens=True)\n",
        "\n",
        "        GroundTruth_answers.extend(X['output'])\n",
        "        Predicted_answers.extend(outputs)\n",
        "\n",
        "  return GroundTruth_answers, Predicted_answers"
      ],
      "metadata": {
        "id": "1zrgJEY91jRe"
      },
      "execution_count": null,
      "outputs": []
    },
    {
      "cell_type": "code",
      "source": [
        "GroundTruth_answers, pretrained_Predicted_answers = QA_generation(model, val_dataloader)"
      ],
      "metadata": {
        "id": "YzLGzwbw13e0"
      },
      "execution_count": null,
      "outputs": []
    },
    {
      "cell_type": "code",
      "source": [
        "from torch.optim import Adam\n",
        "\n",
        "optimizer = Adam(model.parameters(), lr = 3e-4)"
      ],
      "metadata": {
        "id": "Q3QK7CJM0RKx"
      },
      "execution_count": null,
      "outputs": []
    },
    {
      "cell_type": "code",
      "source": [
        "model.device"
      ],
      "metadata": {
        "colab": {
          "base_uri": "https://localhost:8080/"
        },
        "id": "-dPhASk6shZE",
        "outputId": "421b631d-1562-4fe5-b96d-6655020de05e"
      },
      "execution_count": null,
      "outputs": [
        {
          "output_type": "execute_result",
          "data": {
            "text/plain": [
              "device(type='cuda', index=0)"
            ]
          },
          "metadata": {},
          "execution_count": 19
        }
      ]
    },
    {
      "cell_type": "code",
      "source": [
        "import tqdm\n",
        "\n",
        "EPOCHS = 1\n",
        "LOSS = []\n",
        "VAL_LOSS = []\n",
        "train_steps = 0\n",
        "loss = 0\n",
        "total_loss = 0\n",
        "gradient_accumulation_steps = 10 # effective batch_size = 40\n",
        "validation_steps = 100\n",
        "\n",
        "train_loss = 0\n",
        "for n_epoch in tqdm.tqdm(range(EPOCHS)):\n",
        "  model.train()\n",
        "\n",
        "  for step,X in enumerate(train_dataloader):\n",
        "    train_steps += 1\n",
        "\n",
        "    inputs = tokenizer(X['encoder_input'], padding=True, truncation=True, return_tensors = 'pt').to(device)\n",
        "    output = tokenizer(text_target=X['output'] , padding=True, truncation=True, return_tensors = 'pt').to(device)\n",
        "\n",
        "    loss = model(**inputs, labels=output['input_ids']).loss\n",
        "\n",
        "    loss.backward()\n",
        "    total_loss += loss.item()\n",
        "\n",
        "    if train_steps%gradient_accumulation_steps == 0:\n",
        "\n",
        "      optimizer.step()\n",
        "      optimizer.zero_grad()\n",
        "\n",
        "      LOSS.append(total_loss/(gradient_accumulation_steps * BATCH_SIZE))\n",
        "      torch.cuda.empty_cache()\n",
        "\n",
        "      train_loss += total_loss\n",
        "      total_loss = 0\n",
        "\n",
        "    if train_steps%validation_steps == 0:\n",
        "\n",
        "      model.eval()\n",
        "      val_loss = 0\n",
        "\n",
        "      with torch.no_grad():\n",
        "        for step,Y in enumerate(val_dataloader):\n",
        "\n",
        "          inputs = tokenizer(Y['encoder_input'], padding=True, truncation=True, return_tensors = 'pt').to(device)\n",
        "          output = tokenizer(text_target=Y['output'] , padding=True, truncation=True, return_tensors = 'pt').to(device)\n",
        "\n",
        "          loss = model(**inputs, labels=output['input_ids']).loss\n",
        "          val_loss += loss.item()\n",
        "\n",
        "      VAL_LOSS.append(val_loss/(len(val_dataloader)*BATCH_SIZE))\n",
        "\n",
        "      print(f\"Train Steps: {train_steps}, Avg. Training Loss: {train_loss/(validation_steps*BATCH_SIZE):0.5f}, Avg. Validation Loss: {val_loss/(len(val_dataloader)*BATCH_SIZE):.5f}\")\n",
        "\n",
        "      train_loss = 0\n"
      ],
      "metadata": {
        "colab": {
          "base_uri": "https://localhost:8080/"
        },
        "id": "_GWM2uudsDqe",
        "outputId": "9b4448cd-a848-474c-d020-af45d7527ad4"
      },
      "execution_count": null,
      "outputs": [
        {
          "metadata": {
            "tags": null
          },
          "name": "stderr",
          "output_type": "stream",
          "text": [
            "\r  0%|          | 0/1 [00:00<?, ?it/s]"
          ]
        },
        {
          "output_type": "stream",
          "name": "stdout",
          "text": [
            "Train Steps: 100, Avg. Training Loss: 2.91862, Avg. Validation Loss: 1.69251\n",
            "Train Steps: 200, Avg. Training Loss: 1.26650, Avg. Validation Loss: 0.86743\n",
            "Train Steps: 300, Avg. Training Loss: 0.65730, Avg. Validation Loss: 0.48821\n",
            "Train Steps: 400, Avg. Training Loss: 0.42854, Avg. Validation Loss: 0.35133\n",
            "Train Steps: 500, Avg. Training Loss: 0.29941, Avg. Validation Loss: 0.25264\n",
            "Train Steps: 600, Avg. Training Loss: 0.19086, Avg. Validation Loss: 0.17444\n",
            "Train Steps: 700, Avg. Training Loss: 0.13654, Avg. Validation Loss: 0.13007\n",
            "Train Steps: 800, Avg. Training Loss: 0.09405, Avg. Validation Loss: 0.11277\n",
            "Train Steps: 900, Avg. Training Loss: 0.07561, Avg. Validation Loss: 0.10552\n",
            "Train Steps: 1000, Avg. Training Loss: 0.07319, Avg. Validation Loss: 0.10044\n",
            "Train Steps: 1100, Avg. Training Loss: 0.08453, Avg. Validation Loss: 0.09672\n",
            "Train Steps: 1200, Avg. Training Loss: 0.06221, Avg. Validation Loss: 0.09478\n",
            "Train Steps: 1300, Avg. Training Loss: 0.06714, Avg. Validation Loss: 0.09238\n",
            "Train Steps: 1400, Avg. Training Loss: 0.06657, Avg. Validation Loss: 0.09391\n",
            "Train Steps: 1500, Avg. Training Loss: 0.06024, Avg. Validation Loss: 0.09230\n",
            "Train Steps: 1600, Avg. Training Loss: 0.06865, Avg. Validation Loss: 0.08912\n",
            "Train Steps: 1700, Avg. Training Loss: 0.06742, Avg. Validation Loss: 0.09091\n",
            "Train Steps: 1800, Avg. Training Loss: 0.06672, Avg. Validation Loss: 0.08848\n",
            "Train Steps: 1900, Avg. Training Loss: 0.07205, Avg. Validation Loss: 0.08848\n",
            "Train Steps: 2000, Avg. Training Loss: 0.06976, Avg. Validation Loss: 0.08902\n",
            "Train Steps: 2100, Avg. Training Loss: 0.06031, Avg. Validation Loss: 0.08806\n",
            "Train Steps: 2200, Avg. Training Loss: 0.06519, Avg. Validation Loss: 0.09024\n",
            "Train Steps: 2300, Avg. Training Loss: 0.06355, Avg. Validation Loss: 0.09003\n",
            "Train Steps: 2400, Avg. Training Loss: 0.06944, Avg. Validation Loss: 0.08811\n",
            "Train Steps: 2500, Avg. Training Loss: 0.06670, Avg. Validation Loss: 0.08763\n",
            "Train Steps: 2600, Avg. Training Loss: 0.06269, Avg. Validation Loss: 0.08668\n",
            "Train Steps: 2700, Avg. Training Loss: 0.05160, Avg. Validation Loss: 0.08684\n",
            "Train Steps: 2800, Avg. Training Loss: 0.06237, Avg. Validation Loss: 0.08637\n",
            "Train Steps: 2900, Avg. Training Loss: 0.06476, Avg. Validation Loss: 0.08495\n",
            "Train Steps: 3000, Avg. Training Loss: 0.06094, Avg. Validation Loss: 0.08548\n",
            "Train Steps: 3100, Avg. Training Loss: 0.05520, Avg. Validation Loss: 0.08490\n",
            "Train Steps: 3200, Avg. Training Loss: 0.06093, Avg. Validation Loss: 0.08559\n",
            "Train Steps: 3300, Avg. Training Loss: 0.05645, Avg. Validation Loss: 0.08452\n",
            "Train Steps: 3400, Avg. Training Loss: 0.05786, Avg. Validation Loss: 0.08526\n",
            "Train Steps: 3500, Avg. Training Loss: 0.05799, Avg. Validation Loss: 0.08675\n",
            "Train Steps: 3600, Avg. Training Loss: 0.05955, Avg. Validation Loss: 0.08358\n",
            "Train Steps: 3700, Avg. Training Loss: 0.06297, Avg. Validation Loss: 0.08535\n",
            "Train Steps: 3800, Avg. Training Loss: 0.06405, Avg. Validation Loss: 0.08390\n",
            "Train Steps: 3900, Avg. Training Loss: 0.06742, Avg. Validation Loss: 0.08477\n",
            "Train Steps: 4000, Avg. Training Loss: 0.05218, Avg. Validation Loss: 0.08471\n",
            "Train Steps: 4100, Avg. Training Loss: 0.05835, Avg. Validation Loss: 0.08447\n",
            "Train Steps: 4200, Avg. Training Loss: 0.06554, Avg. Validation Loss: 0.08271\n",
            "Train Steps: 4300, Avg. Training Loss: 0.05956, Avg. Validation Loss: 0.08366\n",
            "Train Steps: 4400, Avg. Training Loss: 0.06319, Avg. Validation Loss: 0.08340\n",
            "Train Steps: 4500, Avg. Training Loss: 0.05695, Avg. Validation Loss: 0.08339\n",
            "Train Steps: 4600, Avg. Training Loss: 0.06544, Avg. Validation Loss: 0.08517\n",
            "Train Steps: 4700, Avg. Training Loss: 0.05898, Avg. Validation Loss: 0.08429\n",
            "Train Steps: 4800, Avg. Training Loss: 0.05948, Avg. Validation Loss: 0.08240\n",
            "Train Steps: 4900, Avg. Training Loss: 0.05310, Avg. Validation Loss: 0.08314\n",
            "Train Steps: 5000, Avg. Training Loss: 0.05162, Avg. Validation Loss: 0.08311\n",
            "Train Steps: 5100, Avg. Training Loss: 0.06127, Avg. Validation Loss: 0.08303\n",
            "Train Steps: 5200, Avg. Training Loss: 0.05319, Avg. Validation Loss: 0.08383\n",
            "Train Steps: 5300, Avg. Training Loss: 0.05879, Avg. Validation Loss: 0.08177\n",
            "Train Steps: 5400, Avg. Training Loss: 0.05106, Avg. Validation Loss: 0.08290\n",
            "Train Steps: 5500, Avg. Training Loss: 0.05722, Avg. Validation Loss: 0.08346\n",
            "Train Steps: 5600, Avg. Training Loss: 0.05859, Avg. Validation Loss: 0.08382\n",
            "Train Steps: 5700, Avg. Training Loss: 0.05376, Avg. Validation Loss: 0.08212\n",
            "Train Steps: 5800, Avg. Training Loss: 0.05982, Avg. Validation Loss: 0.08143\n",
            "Train Steps: 5900, Avg. Training Loss: 0.05978, Avg. Validation Loss: 0.08343\n",
            "Train Steps: 6000, Avg. Training Loss: 0.06723, Avg. Validation Loss: 0.08162\n",
            "Train Steps: 6100, Avg. Training Loss: 0.06729, Avg. Validation Loss: 0.08152\n",
            "Train Steps: 6200, Avg. Training Loss: 0.05593, Avg. Validation Loss: 0.08137\n",
            "Train Steps: 6300, Avg. Training Loss: 0.05483, Avg. Validation Loss: 0.08086\n",
            "Train Steps: 6400, Avg. Training Loss: 0.05641, Avg. Validation Loss: 0.08143\n",
            "Train Steps: 6500, Avg. Training Loss: 0.05443, Avg. Validation Loss: 0.08072\n",
            "Train Steps: 6600, Avg. Training Loss: 0.06312, Avg. Validation Loss: 0.08087\n",
            "Train Steps: 6700, Avg. Training Loss: 0.05575, Avg. Validation Loss: 0.08130\n",
            "Train Steps: 6800, Avg. Training Loss: 0.05861, Avg. Validation Loss: 0.08235\n",
            "Train Steps: 6900, Avg. Training Loss: 0.05396, Avg. Validation Loss: 0.08050\n",
            "Train Steps: 7000, Avg. Training Loss: 0.05971, Avg. Validation Loss: 0.08102\n",
            "Train Steps: 7100, Avg. Training Loss: 0.05151, Avg. Validation Loss: 0.08318\n",
            "Train Steps: 7200, Avg. Training Loss: 0.05921, Avg. Validation Loss: 0.08047\n",
            "Train Steps: 7300, Avg. Training Loss: 0.05081, Avg. Validation Loss: 0.08013\n",
            "Train Steps: 7400, Avg. Training Loss: 0.05141, Avg. Validation Loss: 0.08137\n",
            "Train Steps: 7500, Avg. Training Loss: 0.06275, Avg. Validation Loss: 0.07975\n",
            "Train Steps: 7600, Avg. Training Loss: 0.05753, Avg. Validation Loss: 0.07999\n",
            "Train Steps: 7700, Avg. Training Loss: 0.05969, Avg. Validation Loss: 0.08152\n",
            "Train Steps: 7800, Avg. Training Loss: 0.06089, Avg. Validation Loss: 0.08344\n",
            "Train Steps: 7900, Avg. Training Loss: 0.05094, Avg. Validation Loss: 0.08214\n"
          ]
        },
        {
          "output_type": "stream",
          "name": "stderr",
          "text": [
            "100%|██████████| 1/1 [1:04:52<00:00, 3892.47s/it]"
          ]
        },
        {
          "output_type": "stream",
          "name": "stdout",
          "text": [
            "Train Steps: 8000, Avg. Training Loss: 0.05194, Avg. Validation Loss: 0.08171\n"
          ]
        },
        {
          "output_type": "stream",
          "name": "stderr",
          "text": [
            "\n"
          ]
        }
      ]
    },
    {
      "cell_type": "code",
      "source": [
        "import matplotlib.pyplot as plt\n",
        "\n",
        "plt.plot(LOSS, label = \"training loss\")\n",
        "plt.plot(VAL_LOSS, label = \"validation loss\")\n",
        "plt.legend()"
      ],
      "metadata": {
        "colab": {
          "base_uri": "https://localhost:8080/",
          "height": 448
        },
        "id": "nvxlfPJc1q2v",
        "outputId": "bc4b662c-7bdd-45ac-8dd6-bb9fc78e6b8c"
      },
      "execution_count": null,
      "outputs": [
        {
          "output_type": "execute_result",
          "data": {
            "text/plain": [
              "<matplotlib.legend.Legend at 0x7df714e180d0>"
            ]
          },
          "metadata": {},
          "execution_count": 21
        },
        {
          "output_type": "display_data",
          "data": {
            "text/plain": [
              "<Figure size 640x480 with 1 Axes>"
            ],
            "image/png": "[encoded data removed]"
          },
          "metadata": {}
        }
      ]
    },
    {
      "cell_type": "code",
      "source": [
        "GroundTruth_answers, finetuned_Predicted_answers = QA_generation(model, val_dataloader)"
      ],
      "metadata": {
        "id": "RrkKT0PL2CSQ"
      },
      "execution_count": null,
      "outputs": []
    },
    {
      "cell_type": "markdown",
      "source": [
        "Evaluation of finetuned model"
      ],
      "metadata": {
        "id": "PhiyqB3ILw34"
      }
    },
    {
      "cell_type": "code",
      "source": [
        "!pip install rouge-score"
      ],
      "metadata": {
        "id": "41vzp9hQH-mQ"
      },
      "execution_count": null,
      "outputs": []
    },
    {
      "cell_type": "code",
      "source": [
        "from datasets import load_metric\n",
        "from statistics import mean\n",
        "\n",
        "def modified_bleu(scores: dict):\n",
        "\n",
        "  x = 1.0\n",
        "  for _ in scores['precisions'][:scores['reference_length']]:\n",
        "    x *= _\n",
        "\n",
        "  return scores['brevity_penalty'] * (x ** (1 / len(scores['precisions'][:scores['reference_length']])))\n",
        "\n",
        "\n",
        "def compute_evaluation_metrics(GroundTruth_answers,Predicted_answers):\n",
        "  bleu = load_metric(\"bleu\")\n",
        "  Avg_bleu_Score = mean([modified_bleu(bleu.compute(predictions=[b.split()], references=[[a.split()]])) for a,b in zip(GroundTruth_answers,Predicted_answers)])\n",
        "\n",
        "  rouge = load_metric(\"rouge\")\n",
        "  Avg_rouge_Score = mean([rouge.compute(use_aggregator=False, predictions=[b], references=[a])['rouge1'][0].fmeasure for a,b in zip(GroundTruth_answers,Predicted_answers)])\n",
        "\n",
        "  print(f\"Bleu-score: {Avg_bleu_Score}, ROUGE-score: {Avg_rouge_Score}\")\n",
        "\n",
        "\n",
        "\n",
        "def exact_match_score(GroundTruth_answers, Predicted_answers):\n",
        "\n",
        "  return sum([1 for a,b in zip(GroundTruth_answers, Predicted_answers) if a==b])\n"
      ],
      "metadata": {
        "id": "WH-JF4933TvD"
      },
      "execution_count": null,
      "outputs": []
    },
    {
      "cell_type": "markdown",
      "source": [
        "QA performance from pretrained model"
      ],
      "metadata": {
        "id": "52zRWpMh2Rw2"
      }
    },
    {
      "cell_type": "code",
      "source": [
        "compute_evaluation_metrics(GroundTruth_answers, pretrained_Predicted_answers)"
      ],
      "metadata": {
        "id": "-LIauLARZcuo",
        "colab": {
          "base_uri": "https://localhost:8080/"
        },
        "outputId": "22e808eb-58dc-439d-d295-ceb317a3f81c"
      },
      "execution_count": null,
      "outputs": [
        {
          "output_type": "stream",
          "name": "stdout",
          "text": [
            "Bleu-score: 0.5508325421821997, ROUGE-score: 0.6718596525710846\n"
          ]
        }
      ]
    },
    {
      "cell_type": "markdown",
      "source": [
        "QA performance from finetuned model"
      ],
      "metadata": {
        "id": "Ok5ESlRE2V7l"
      }
    },
    {
      "cell_type": "code",
      "source": [
        "compute_evaluation_metrics(GroundTruth_answers, finetuned_Predicted_answers)"
      ],
      "metadata": {
        "colab": {
          "base_uri": "https://localhost:8080/"
        },
        "id": "WxQeGUOfhYCr",
        "outputId": "56656529-8652-45a1-f2b6-0bfe21326908"
      },
      "execution_count": null,
      "outputs": [
        {
          "output_type": "stream",
          "name": "stdout",
          "text": [
            "Bleu-score: 0.641538022737342, ROUGE-score: 0.7678881204793092\n"
          ]
        }
      ]
    },
    {
      "cell_type": "markdown",
      "source": [
        "Comparison in exact-match scores"
      ],
      "metadata": {
        "id": "7tVEI2FIJk4U"
      }
    },
    {
      "cell_type": "code",
      "source": [
        "print(f\"Before finetuning: {exact_match_score(GroundTruth_answers,pretrained_Predicted_answers)}, after finetuning: {exact_match_score(GroundTruth_answers,finetuned_Predicted_answers)}\")"
      ],
      "metadata": {
        "colab": {
          "base_uri": "https://localhost:8080/"
        },
        "id": "cNIlFFV5zOQK",
        "outputId": "3b4c103a-11cb-4790-a882-179776e856f4"
      },
      "execution_count": null,
      "outputs": [
        {
          "output_type": "stream",
          "name": "stdout",
          "text": [
            "Before finetuning: 2436, after finetuning: 2882\n"
          ]
        }
      ]
    },
    {
      "cell_type": "code",
      "source": [],
      "metadata": {
        "id": "HnsogMeVJpf-"
      },
      "execution_count": null,
      "outputs": []
    }
  ]
}